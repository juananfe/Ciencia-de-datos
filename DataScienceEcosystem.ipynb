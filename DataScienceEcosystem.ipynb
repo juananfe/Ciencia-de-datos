{
 "cells": [
  {
   "cell_type": "markdown",
   "id": "f5f70262-a1c7-4f50-b29e-24b05688e9a0",
   "metadata": {},
   "source": [
    "# Data Science Tools and Ecosystem"
   ]
  },
  {
   "cell_type": "markdown",
   "id": "5dee8aa1-2a29-49f6-9341-fa9ee1d4cdfc",
   "metadata": {},
   "source": [
    "## In this notebook, Data Science Tools and Ecosystem are summarized."
   ]
  },
  {
   "cell_type": "markdown",
   "id": "a0ccf4cb-202d-4a22-9759-1f04eaf22fe8",
   "metadata": {},
   "source": [
    "### Objectives:\n",
    "\n",
    "* Create a Jupyter Notebook\n",
    "* Insert code and markdown cells\n",
    "* Share your notebook through GitHub\n"
   ]
  },
  {
   "cell_type": "markdown",
   "id": "f468716e-6f13-426b-90a4-224cb44414bb",
   "metadata": {},
   "source": [
    "### Some of the popular languages that Data Scientists use are:"
   ]
  },
  {
   "cell_type": "markdown",
   "id": "505802c2-1508-4189-95c4-de4d9ae99f4e",
   "metadata": {},
   "source": [
    "1. R\n",
    "2. Python\n",
    "3. Julia"
   ]
  },
  {
   "cell_type": "markdown",
   "id": "6f2150f0-0e46-492b-88d3-829a779f26e7",
   "metadata": {},
   "source": [
    "### Some of the commonly used libraries used by Data Scientists include:"
   ]
  },
  {
   "cell_type": "markdown",
   "id": "1b1bdcd2-a28e-42e2-af84-4178c030e725",
   "metadata": {},
   "source": [
    "1. Panda\n",
    "2. Numpy\n",
    "3. Scikit-learn"
   ]
  },
  {
   "cell_type": "markdown",
   "id": "612b673a-7c08-4a51-8b96-aee3ed3c0cfa",
   "metadata": {},
   "source": [
    "| Data Science Tools |\n",
    "|--------------------|\n",
    "| Apache Hadoop      |\n",
    "| MongoDB            |\n",
    "| Apache Spark       |"
   ]
  },
  {
   "cell_type": "markdown",
   "id": "df7063dc-35ab-4e7a-9475-b4c81d9f232f",
   "metadata": {},
   "source": [
    "### Below are a few examples of evaluating arithmetic expressions in Python\n",
    "#### 7 + 5 = 12\n",
    "#### 4 * 20 = 80\n",
    "#### 8 / 4 = 2"
   ]
  },
  {
   "cell_type": "markdown",
   "id": "c5670ba9-f79e-4f75-a7c7-49d5852d4378",
   "metadata": {},
   "source": [
    "<!-- This a simple arithmetic expression to mutiply then add integers -->"
   ]
  },
  {
   "cell_type": "code",
   "execution_count": 38,
   "id": "74231648-2b5c-4d04-b245-898c08dd66bd",
   "metadata": {},
   "outputs": [
    {
     "data": {
      "text/plain": [
       "17"
      ]
     },
     "execution_count": 38,
     "metadata": {},
     "output_type": "execute_result"
    }
   ],
   "source": [
    "(3*4)+5 "
   ]
  },
  {
   "cell_type": "markdown",
   "id": "ec929df6-549a-4a54-b4d6-f070eeecf585",
   "metadata": {},
   "source": [
    "<!-- This will convert 200 minutes to hours by diving by 60 -->"
   ]
  },
  {
   "cell_type": "code",
   "execution_count": 44,
   "id": "d98f1e1b-39e0-4cac-a6d4-0b3316320a65",
   "metadata": {},
   "outputs": [
    {
     "data": {
      "text/plain": [
       "3.3333333333333335"
      ]
     },
     "execution_count": 44,
     "metadata": {},
     "output_type": "execute_result"
    }
   ],
   "source": [
    "200/60"
   ]
  },
  {
   "cell_type": "markdown",
   "id": "bbcec76d-5c27-435a-8db9-7f8893bb495f",
   "metadata": {},
   "source": [
    "## Author:"
   ]
  },
  {
   "cell_type": "markdown",
   "id": "91699dc1-f005-4178-b418-24ec1e9d953d",
   "metadata": {},
   "source": [
    "Juan Antonio Fernández"
   ]
  },
  {
   "cell_type": "code",
   "execution_count": null,
   "id": "1dd53e42-c889-44b1-9d66-8a760a2bc356",
   "metadata": {},
   "outputs": [],
   "source": []
  }
 ],
 "metadata": {
  "kernelspec": {
   "display_name": "Python 3 (ipykernel)",
   "language": "python",
   "name": "python3"
  },
  "language_info": {
   "codemirror_mode": {
    "name": "ipython",
    "version": 3
   },
   "file_extension": ".py",
   "mimetype": "text/x-python",
   "name": "python",
   "nbconvert_exporter": "python",
   "pygments_lexer": "ipython3",
   "version": "3.11.7"
  }
 },
 "nbformat": 4,
 "nbformat_minor": 5
}
